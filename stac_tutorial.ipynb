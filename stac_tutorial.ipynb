{
 "cells": [
  {
   "cell_type": "markdown",
   "id": "14ff4e6d",
   "metadata": {},
   "source": [
    "Code from here: \n",
    "https://pystac.readthedocs.io/en/stable/tutorials/creating-a-landsat-stac.html"
   ]
  },
  {
   "cell_type": "markdown",
   "id": "8c5965a7",
   "metadata": {},
   "source": [
    "Also to run this notebook you’ll need jupyter installed locally as well. If you’re running in a docker container, make sure that port 5555 is exposed if you want to run the server at the end of the notebook."
   ]
  },
  {
   "cell_type": "code",
   "execution_count": null,
   "id": "8c4abce4",
   "metadata": {},
   "outputs": [],
   "source": [
    "from typing import Any, Dict, List, Optional, cast\n",
    "from typing_extensions import TypedDict\n",
    "\n",
    "import pystac\n",
    "from pystac.extensions.eo import EOExtension\n",
    "from pystac.extensions.projection import ProjectionExtension\n",
    "from pystac.extensions.view import ViewExtension"
   ]
  },
  {
   "cell_type": "markdown",
   "id": "052c5849",
   "metadata": {},
   "source": [
    "AWS keeps a scene list that includes information about where the scene is located and how to access it’s information. Landsat 8 was reorganized into a Collection system in the past, and so there’s two places to read a scene list from (as mentioned on the aws page). We’ll pull from the data that is organized as Collection 1 data, which is where all new processed data is added since 2017."
   ]
  },
  {
   "cell_type": "code",
   "execution_count": null,
   "id": "5e6b24e7",
   "metadata": {},
   "outputs": [],
   "source": [
    "import csv\n",
    "from datetime import datetime\n",
    "import gzip\n",
    "from io import StringIO\n",
    "from urllib.request import urlopen"
   ]
  },
  {
   "cell_type": "code",
   "execution_count": null,
   "id": "c7ab9d4e",
   "metadata": {},
   "outputs": [],
   "source": [
    "# Here we use a TypedDict to define the structure of the Landsat scene dictionaries\n",
    "# we will be working with. You can read more about the TypedDict class here:\n",
    "# https://docs.python.org/3/library/typing.html#typing.TypedDict\n",
    "class Scene(TypedDict):\n",
    "    productId: str\n",
    "    entityId: str\n",
    "    acquisitionDate: str\n",
    "    cloudCover: str\n",
    "    processingLevel: str\n",
    "    path: str\n",
    "    row: str\n",
    "    min_lat: str\n",
    "    min_lon: str\n",
    "    max_lat: str\n",
    "    max_lon: str\n",
    "    download_url: str\n",
    "\n",
    "\n",
    "# Collection 1 data\n",
    "url = \"https://landsat-pds.s3.amazonaws.com/c1/L8/scene_list.gz\"\n",
    "\n",
    "# Read and unzip the content\n",
    "response = urlopen(url)\n",
    "gunzip_response = gzip.GzipFile(fileobj=response)\n",
    "content = gunzip_response.read()\n",
    "\n",
    "# Read the scenes in as dictionaries\n",
    "scenes: List[Scene] = list(\n",
    "    map(lambda s: cast(Scene, s), csv.DictReader(StringIO(content.decode(\"utf-8\"))))\n",
    ")"
   ]
  },
  {
   "cell_type": "code",
   "execution_count": null,
   "id": "322021bf",
   "metadata": {},
   "outputs": [],
   "source": [
    "len(scenes)"
   ]
  },
  {
   "cell_type": "markdown",
   "id": "e85f6844",
   "metadata": {},
   "source": [
    "As you can see, there are a lot of scenes! Even though STAC items contain just the metadata for the scenes (and not the bulky raster image), this would still be a lot of data and files to work with for this tutorial.\n",
    "\n",
    "Let’s see what one of the scenes looks like, and then filter on those properties to scope things down."
   ]
  },
  {
   "cell_type": "code",
   "execution_count": null,
   "id": "1412a365",
   "metadata": {},
   "outputs": [],
   "source": [
    "scenes[0]"
   ]
  },
  {
   "cell_type": "markdown",
   "id": "3eee1bc4",
   "metadata": {},
   "source": [
    "As you can see, we have both a date and a location that we can filter on.\n",
    "\n",
    "#Filter scenes by a location\n",
    "Let’s pick a location to filter the scenes by. Here we choose Philly, but feel free to change the location by modifying the latitude and longitude coordinates below and changing the location name:"
   ]
  },
  {
   "cell_type": "code",
   "execution_count": null,
   "id": "2b3a8436",
   "metadata": {},
   "outputs": [],
   "source": [
    "lat, lon = 39.9526, -75.1652\n",
    "location_name = \"Philly\"\n",
    "filter_year = \"2020\""
   ]
  },
  {
   "cell_type": "markdown",
   "id": "34cc2b9e",
   "metadata": {},
   "source": [
    "We’ll use the coordinates and the year to filter out any unwanted scenes:"
   ]
  },
  {
   "cell_type": "code",
   "execution_count": null,
   "id": "cd7bab88",
   "metadata": {},
   "outputs": [],
   "source": [
    "def keep_scene(scene: Scene) -> bool:\n",
    "    contains_location = (\n",
    "        float(scene[\"min_lat\"]) < lat\n",
    "        and float(scene[\"max_lat\"]) > lat\n",
    "        and float(scene[\"min_lon\"]) < lon\n",
    "        and float(scene[\"max_lon\"]) > lon\n",
    "    )\n",
    "    is_correct_year = \"{}-\".format(filter_year) in scene[\"acquisitionDate\"]\n",
    "    return contains_location and is_correct_year\n",
    "\n",
    "\n",
    "location_scenes = [scene for scene in scenes if keep_scene(scene)]"
   ]
  },
  {
   "cell_type": "markdown",
   "id": "e66da235",
   "metadata": {},
   "source": [
    "This should leave us with a much more manageable subset of scenes:"
   ]
  },
  {
   "cell_type": "code",
   "execution_count": null,
   "id": "59f7b3ce",
   "metadata": {},
   "outputs": [],
   "source": [
    "len(location_scenes)"
   ]
  },
  {
   "cell_type": "markdown",
   "id": "59b5f287",
   "metadata": {},
   "source": [
    "We’ll be working with a single scene through the next few sections, so let’s use the first scene in our list:"
   ]
  },
  {
   "cell_type": "code",
   "execution_count": null,
   "id": "918e6ef7",
   "metadata": {},
   "outputs": [],
   "source": [
    "scene = location_scenes[0]\n",
    "scene"
   ]
  },
  {
   "cell_type": "markdown",
   "id": "2f318a36",
   "metadata": {},
   "source": [
    "#Read metadata from the MTL file\n",
    "Landsat 8 metadata is contained in an MTL file that is alongside of the download_url file specified in the scene data. Let’s read the MTL file for the first scene and see what it looks like.\n",
    "\n",
    "First we define a function that reads a file based on the download_url location - we’ll be using this a lot to get file URLs related to a scene:"
   ]
  },
  {
   "cell_type": "code",
   "execution_count": null,
   "id": "7d4cb34a",
   "metadata": {},
   "outputs": [],
   "source": [
    "def get_asset_url(scene: Scene, suffix: str) -> str:\n",
    "    product_id = scene[\"productId\"]\n",
    "    download_url = scene[\"download_url\"]\n",
    "    asset_filename = \"{}_{}\".format(product_id, suffix)\n",
    "    return download_url.replace(\"index.html\", asset_filename)"
   ]
  },
  {
   "cell_type": "markdown",
   "id": "06ff74b6",
   "metadata": {},
   "source": [
    "We can then use function to get the MTL file for our scene. Notice we use pystac.STAC_IO.read_text - this is the method that PySTAC uses to read text as it crawls a STAC. It can read from the local filesystem or HTTP/HTTPS by default. Also, it can be extended to read from other sources such as cloud providers - see the documentation here. For now we’ll use it directly as an easy way to read a text file from an HTTPS source:"
   ]
  },
  {
   "cell_type": "code",
   "execution_count": null,
   "id": "51f420c4",
   "metadata": {},
   "outputs": [],
   "source": [
    "stac_io = pystac.StacIO.default()\n",
    "mtl_url = get_asset_url(scene, \"MTL.txt\")\n",
    "print(stac_io.read_text(mtl_url))"
   ]
  },
  {
   "cell_type": "markdown",
   "id": "9f858228",
   "metadata": {},
   "source": [
    "The MTL file contains metadata in a text format that’s a bit hard to use as-is; we can parse things out to a dict for easier access:"
   ]
  },
  {
   "cell_type": "code",
   "execution_count": null,
   "id": "acc522b9",
   "metadata": {},
   "outputs": [],
   "source": [
    "def get_metadata(url: str) -> Dict[str, Any]:\n",
    "    \"\"\"Convert Landsat MTL file to dictionary of metadata values\"\"\"\n",
    "    mtl = {}\n",
    "    mtl_text = stac_io.read_text(url)\n",
    "    for line in mtl_text.split(\"\\n\"):\n",
    "        meta = line.replace('\"', \"\").strip().split(\"=\")\n",
    "        if len(meta) > 1:\n",
    "            key = meta[0].strip()\n",
    "            item = meta[1].strip()\n",
    "            if key != \"GROUP\" and key != \"END_GROUP\":\n",
    "                mtl[key] = item\n",
    "    return mtl"
   ]
  },
  {
   "cell_type": "code",
   "execution_count": null,
   "id": "f555b142",
   "metadata": {},
   "outputs": [],
   "source": [
    "metadata = get_metadata(mtl_url)\n",
    "metadata"
   ]
  },
  {
   "cell_type": "markdown",
   "id": "5ab6c0a5",
   "metadata": {},
   "source": [
    "# Create a STAC Item from a scene\n",
    "Now that we have metadata for the scene let’s use it to create a STAC Item.\n",
    "\n",
    "We can use the help method to see the signature of the __init__ method on pystac.Item. You can also call help directly on pystac.Item for broader documentation, or check the API docs for Item here."
   ]
  },
  {
   "cell_type": "code",
   "execution_count": null,
   "id": "86710ab2",
   "metadata": {},
   "outputs": [],
   "source": [
    "help(pystac.Item.__init__"
   ]
  },
  {
   "cell_type": "markdown",
   "id": "abf53618",
   "metadata": {},
   "source": [
    "We can see we’ll need at least an id, geometry, bbox, and datetime. Properties is required, but can be an empty dictionary that we fill out on the Item once it’s created."
   ]
  },
  {
   "cell_type": "markdown",
   "id": "8a2ab871",
   "metadata": {},
   "source": [
    "#Item id\n",
    "For the Item’s id, we’ll use the scene ID. We’ll chop off the last 5 characters as they are repeated for each ID and so aren’t necessary:"
   ]
  },
  {
   "cell_type": "code",
   "execution_count": null,
   "id": "5043649b",
   "metadata": {},
   "outputs": [],
   "source": [
    "def get_item_id(metadata: Dict[str, Any]) -> str:\n",
    "    return cast(str, metadata[\"LANDSAT_SCENE_ID\"][:-5])"
   ]
  },
  {
   "cell_type": "code",
   "execution_count": null,
   "id": "574a5821",
   "metadata": {},
   "outputs": [],
   "source": [
    "item_id = get_item_id(metadata)\n",
    "item_id"
   ]
  },
  {
   "cell_type": "markdown",
   "id": "ddf6b3b1",
   "metadata": {},
   "source": [
    "# Item datetime\n",
    "Here we parse the datetime of the Item from two metadata fields that describe the date and time the scene was captured:"
   ]
  },
  {
   "cell_type": "code",
   "execution_count": null,
   "id": "cf9f47b3",
   "metadata": {},
   "outputs": [],
   "source": [
    "from dateutil.parser import parse\n",
    "\n",
    "\n",
    "def get_datetime(metadata: Dict[str, Any]) -> datetime:\n",
    "    return parse(\"%sT%s\" % (metadata[\"DATE_ACQUIRED\"], metadata[\"SCENE_CENTER_TIME\"]))"
   ]
  },
  {
   "cell_type": "code",
   "execution_count": null,
   "id": "cabf8eee",
   "metadata": {},
   "outputs": [],
   "source": [
    "item_datetime = get_datetime(metadata)\n",
    "item_datetime"
   ]
  },
  {
   "cell_type": "markdown",
   "id": "5b7213d0",
   "metadata": {},
   "source": [
    "# Item bbox\n",
    "Here we read in the bounding box information from the scene and transform it into the format of the Item’s bbox property:"
   ]
  },
  {
   "cell_type": "code",
   "execution_count": null,
   "id": "849e9af8",
   "metadata": {},
   "outputs": [],
   "source": [
    "def get_bbox(metadata: Dict[str, Any]) -> List[float]:\n",
    "    coords = [\n",
    "        [\n",
    "            [\n",
    "                float(metadata[\"CORNER_UL_LON_PRODUCT\"]),\n",
    "                float(metadata[\"CORNER_UL_LAT_PRODUCT\"]),\n",
    "            ],\n",
    "            [\n",
    "                float(metadata[\"CORNER_UR_LON_PRODUCT\"]),\n",
    "                float(metadata[\"CORNER_UR_LAT_PRODUCT\"]),\n",
    "            ],\n",
    "            [\n",
    "                float(metadata[\"CORNER_LR_LON_PRODUCT\"]),\n",
    "                float(metadata[\"CORNER_LR_LAT_PRODUCT\"]),\n",
    "            ],\n",
    "            [\n",
    "                float(metadata[\"CORNER_LL_LON_PRODUCT\"]),\n",
    "                float(metadata[\"CORNER_LL_LAT_PRODUCT\"]),\n",
    "            ],\n",
    "            [\n",
    "                float(metadata[\"CORNER_UL_LON_PRODUCT\"]),\n",
    "                float(metadata[\"CORNER_UL_LAT_PRODUCT\"]),\n",
    "            ],\n",
    "        ]\n",
    "    ]\n",
    "    lats = [c[1] for c in coords[0]]\n",
    "    lons = [c[0] for c in coords[0]]\n",
    "    return [min(lons), min(lats), max(lons), max(lats)]"
   ]
  },
  {
   "cell_type": "code",
   "execution_count": null,
   "id": "6e2957ab",
   "metadata": {},
   "outputs": [],
   "source": [
    "item_bbox = get_bbox(metadata)\n",
    "item_bbox"
   ]
  },
  {
   "cell_type": "markdown",
   "id": "caf5bbc5",
   "metadata": {},
   "source": [
    "# Item geometry\n",
    "Getting the geometry of the scene is a little more tricky. The bounding box will be a axis-aligned rectangle of the area the scene occupies, but will not represent the true footprint of the image - Landsat 8 scenes are “tilted” according the the coordinate reference system, so there will be areas in the corner where no image data exists. When constructing a STAC Item it’s best if you have the Item geometry represent the true footprint of the assets.\n",
    "\n",
    "To get the footprint of the scene we’ll read in another metadata file that lives alongside the MTL - the ANG.txt file. This function uses the ANG file and the bbox to construct the GeoJSON polygon that represents the footprint of the scene:"
   ]
  },
  {
   "cell_type": "code",
   "execution_count": null,
   "id": "7a5c1b6f",
   "metadata": {},
   "outputs": [],
   "source": [
    "def get_geometry(scene: Scene, bbox: List[float]) -> Dict[str, Any]:\n",
    "    url = get_asset_url(scene, \"ANG.txt\")\n",
    "    sz = []\n",
    "    coords = []\n",
    "    ang_text = stac_io.read_text(url)\n",
    "    for line in ang_text.split(\"\\n\"):\n",
    "        if \"BAND01_NUM_L1T_LINES\" in line or \"BAND01_NUM_L1T_SAMPS\" in line:\n",
    "            sz.append(float(line.split(\"=\")[1]))\n",
    "        if (\n",
    "            \"BAND01_L1T_IMAGE_CORNER_LINES\" in line\n",
    "            or \"BAND01_L1T_IMAGE_CORNER_SAMPS\" in line\n",
    "        ):\n",
    "            coords.append(\n",
    "                [float(l) for l in line.split(\"=\")[1].strip().strip(\"()\").split(\",\")]\n",
    "            )\n",
    "        if len(coords) == 2:\n",
    "            break\n",
    "    dlon = bbox[2] - bbox[0]\n",
    "    dlat = bbox[3] - bbox[1]\n",
    "    lons = [c / sz[1] * dlon + bbox[0] for c in coords[1]]\n",
    "    lats = [((sz[0] - c) / sz[0]) * dlat + bbox[1] for c in coords[0]]\n",
    "    coordinates = [\n",
    "        [\n",
    "            [lons[0], lats[0]],\n",
    "            [lons[1], lats[1]],\n",
    "            [lons[2], lats[2]],\n",
    "            [lons[3], lats[3]],\n",
    "            [lons[0], lats[0]],\n",
    "        ]\n",
    "    ]\n",
    "\n",
    "    return {\"type\": \"Polygon\", \"coordinates\": coordinates}"
   ]
  },
  {
   "cell_type": "code",
   "execution_count": null,
   "id": "8babfe97",
   "metadata": {},
   "outputs": [],
   "source": [
    "item_geometry = get_geometry(scene, item_bbox)\n",
    "item_geometry"
   ]
  },
  {
   "cell_type": "markdown",
   "id": "a7993481",
   "metadata": {},
   "source": [
    "This would be a good time to check our work - we can print out the GeoJSON and use geojson.io to check and make sure we’re using scenes that overlap our location. If this footprint is somewhere unexpected in the world, make sure the Lat/Long coordinates are correct and in the right order!"
   ]
  },
  {
   "cell_type": "code",
   "execution_count": null,
   "id": "93fddc31",
   "metadata": {},
   "outputs": [],
   "source": [
    "import json\n",
    "\n",
    "print(json.dumps(item_geometry, indent=2))"
   ]
  },
  {
   "cell_type": "markdown",
   "id": "d6c30852",
   "metadata": {},
   "source": [
    "# Create the item\n",
    "Now that we have the required attributes for an Item we can create it:"
   ]
  },
  {
   "cell_type": "code",
   "execution_count": null,
   "id": "c9a76289",
   "metadata": {},
   "outputs": [],
   "source": [
    "item = pystac.Item(\n",
    "    id=item_id,\n",
    "    datetime=item_datetime,\n",
    "    geometry=item_geometry,\n",
    "    bbox=item_bbox,\n",
    "    properties={},\n",
    ")"
   ]
  },
  {
   "cell_type": "markdown",
   "id": "ab894cad",
   "metadata": {},
   "source": [
    "PySTAC has a validate method on STAC objects, which you can use to make sure you’re constructing things correctly. If there’s an issue the following line will throw an exception:\n",
    "\n"
   ]
  },
  {
   "cell_type": "code",
   "execution_count": null,
   "id": "4a2a1214",
   "metadata": {},
   "outputs": [],
   "source": [
    "item.validate()"
   ]
  },
  {
   "cell_type": "markdown",
   "id": "47bd128e",
   "metadata": {},
   "source": [
    "# Add Ground Sample Distance to common metadata\n",
    "We’ll add the Ground Sample Distance that is defined as part of the Item Common Metadata. We define this on the Item level as 30 meters, which is the GSD for most of the bands of Landsat 8. However, there are some bands that have a different resolution; we will account for this by setting the GSD explicitly for each of those bands below."
   ]
  },
  {
   "cell_type": "code",
   "execution_count": null,
   "id": "adeea80e",
   "metadata": {},
   "outputs": [],
   "source": [
    "item.common_metadata.gsd = 30.0"
   ]
  },
  {
   "cell_type": "markdown",
   "id": "5f1982b6",
   "metadata": {},
   "source": [
    "# Adding the EO extension\n",
    "STAC has a rich set of extensions that allow STAC objects to encode information that is not part of the core spec but is used widely and standardized. An example of this is the eo extension, which encapsulates data that that represents a snapshot of the earth for a single date and time.\n",
    "\n",
    "We can enable the eo extension for this item by using the ext property that exists on all STAC objects:"
   ]
  },
  {
   "cell_type": "code",
   "execution_count": null,
   "id": "bc6b4876",
   "metadata": {},
   "outputs": [],
   "source": [
    "eo_ext = EOExtension.ext(item, add_if_missing=True)"
   ]
  },
  {
   "cell_type": "markdown",
   "id": "bc7ec728",
   "metadata": {},
   "source": [
    "# Add cloud cover\n",
    "Here we add cloud cover from the metadata as part of the eo extension."
   ]
  },
  {
   "cell_type": "code",
   "execution_count": null,
   "id": "1951a7d2",
   "metadata": {},
   "outputs": [],
   "source": [
    "def get_cloud_cover(metadata: Dict[str, Any]) -> float:\n",
    "    return float(metadata[\"CLOUD_COVER\"])"
   ]
  },
  {
   "cell_type": "code",
   "execution_count": null,
   "id": "1f58ffdf",
   "metadata": {},
   "outputs": [],
   "source": [
    "eo_ext.cloud_cover = get_cloud_cover(metadata)\n",
    "eo_ext.cloud_cover"
   ]
  },
  {
   "cell_type": "markdown",
   "id": "f8f036a8",
   "metadata": {},
   "source": [
    "# Adding assets\n",
    "STAC Items contain a list of Assets, which are a list of files that relate to the Item. In our case we’ll be cataloging each file related to the scene, including the Landsat 8 band files as well as the metadata files associated with the scene.\n",
    "\n",
    "Here we define a dictionary that describes the band assets. We use the eo extension’s Band class to encapsulate information about the band each file represents, and also specify the Ground Sample Distance of each band:"
   ]
  },
  {
   "cell_type": "code",
   "execution_count": null,
   "id": "4a17d8fe",
   "metadata": {},
   "outputs": [],
   "source": [
    "from pystac.extensions.eo import Band\n",
    "\n",
    "\n",
    "class BandInfo(TypedDict):\n",
    "    band: Band\n",
    "    gsd: float\n",
    "\n",
    "\n",
    "landsat_band_info: Dict[str, BandInfo] = {\n",
    "    \"B1\": {\n",
    "        \"band\": Band.create(\n",
    "            name=\"B1\",\n",
    "            common_name=\"coastal\",\n",
    "            center_wavelength=0.48,\n",
    "            full_width_half_max=0.02,\n",
    "        ),\n",
    "        \"gsd\": 30.0,\n",
    "    },\n",
    "    \"B2\": {\n",
    "        \"band\": Band.create(\n",
    "            name=\"B2\",\n",
    "            common_name=\"blue\",\n",
    "            center_wavelength=0.44,\n",
    "            full_width_half_max=0.06,\n",
    "        ),\n",
    "        \"gsd\": 30.0,\n",
    "    },\n",
    "    \"B3\": {\n",
    "        \"band\": Band.create(\n",
    "            name=\"B3\",\n",
    "            common_name=\"green\",\n",
    "            center_wavelength=0.56,\n",
    "            full_width_half_max=0.06,\n",
    "        ),\n",
    "        \"gsd\": 30.0,\n",
    "    },\n",
    "    \"B4\": {\n",
    "        \"band\": Band.create(\n",
    "            name=\"B4\",\n",
    "            common_name=\"red\",\n",
    "            center_wavelength=0.65,\n",
    "            full_width_half_max=0.04,\n",
    "        ),\n",
    "        \"gsd\": 30.0,\n",
    "    },\n",
    "    \"B5\": {\n",
    "        \"band\": Band.create(\n",
    "            name=\"B5\",\n",
    "            common_name=\"nir\",\n",
    "            center_wavelength=0.86,\n",
    "            full_width_half_max=0.03,\n",
    "        ),\n",
    "        \"gsd\": 30.0,\n",
    "    },\n",
    "    \"B6\": {\n",
    "        \"band\": Band.create(\n",
    "            name=\"B6\",\n",
    "            common_name=\"swir16\",\n",
    "            center_wavelength=1.6,\n",
    "            full_width_half_max=0.08,\n",
    "        ),\n",
    "        \"gsd\": 30.0,\n",
    "    },\n",
    "    \"B7\": {\n",
    "        \"band\": Band.create(\n",
    "            name=\"B7\",\n",
    "            common_name=\"swir22\",\n",
    "            center_wavelength=2.2,\n",
    "            full_width_half_max=0.2,\n",
    "        ),\n",
    "        \"gsd\": 30.0,\n",
    "    },\n",
    "    \"B8\": {\n",
    "        \"band\": Band.create(\n",
    "            name=\"B8\",\n",
    "            common_name=\"pan\",\n",
    "            center_wavelength=0.59,\n",
    "            full_width_half_max=0.18,\n",
    "        ),\n",
    "        \"gsd\": 15.0,\n",
    "    },\n",
    "    \"B9\": {\n",
    "        \"band\": Band.create(\n",
    "            name=\"B9\",\n",
    "            common_name=\"cirrus\",\n",
    "            center_wavelength=1.37,\n",
    "            full_width_half_max=0.02,\n",
    "        ),\n",
    "        \"gsd\": 30.0,\n",
    "    },\n",
    "    \"B10\": {\n",
    "        \"band\": Band.create(\n",
    "            name=\"B10\",\n",
    "            common_name=\"lwir11\",\n",
    "            center_wavelength=10.9,\n",
    "            full_width_half_max=0.8,\n",
    "        ),\n",
    "        \"gsd\": 100.0,\n",
    "    },\n",
    "    \"B11\": {\n",
    "        \"band\": Band.create(\n",
    "            name=\"B11\",\n",
    "            common_name=\"lwir12\",\n",
    "            center_wavelength=12.0,\n",
    "            full_width_half_max=1.0,\n",
    "        ),\n",
    "        \"gsd\": 100.0,\n",
    "    },\n",
    "}"
   ]
  },
  {
   "cell_type": "markdown",
   "id": "c28891a8",
   "metadata": {},
   "source": [
    "There are also other non-band assets associated with a scene, and we specify the Asset’s URL and media type here, along with the key we will refer to each asset by:"
   ]
  },
  {
   "cell_type": "code",
   "execution_count": null,
   "id": "afa6d8e8",
   "metadata": {},
   "outputs": [],
   "source": [
    "def get_other_assets(scene: Scene) -> Dict[str, Dict[str, Any]]:\n",
    "    return {\n",
    "        \"thumbnail\": {\n",
    "            \"href\": get_asset_url(scene, \"thumb_large.jpg\"),\n",
    "            \"media_type\": pystac.MediaType.JPEG,\n",
    "        },\n",
    "        \"index\": {\n",
    "            \"href\": get_asset_url(scene, \"index.html\"),\n",
    "            \"media_type\": \"application/html\",\n",
    "        },\n",
    "        \"ANG\": {\"href\": get_asset_url(scene, \"ANG.txt\"), \"media_type\": \"text/plain\"},\n",
    "        \"MTL\": {\"href\": get_asset_url(scene, \"MTL.txt\"), \"media_type\": \"text/plain\"},\n",
    "        \"BQA\": {\n",
    "            \"href\": get_asset_url(scene, \"BQA.TIF\"),\n",
    "            \"media_type\": pystac.MediaType.GEOTIFF,\n",
    "        },\n",
    "    }"
   ]
  },
  {
   "cell_type": "markdown",
   "id": "3a2d2178",
   "metadata": {},
   "source": [
    "With this information we can now define a method that adds all the relevant assets for a scene and add them to an item:"
   ]
  },
  {
   "cell_type": "code",
   "execution_count": null,
   "id": "e30604fb",
   "metadata": {},
   "outputs": [],
   "source": [
    "def add_assets(item: pystac.Item, scene: Scene) -> None:\n",
    "    # Add bands\n",
    "    for band_id, band_info in landsat_band_info.items():\n",
    "        band_url = get_asset_url(scene, \"{}.TIF\".format(band_id))\n",
    "        asset = pystac.Asset(href=band_url, media_type=pystac.MediaType.COG)\n",
    "        bands = [band_info[\"band\"]]\n",
    "        asset_eo_ext = EOExtension.ext(asset)\n",
    "        asset_eo_ext.bands = bands\n",
    "        item.add_asset(band_id, asset)\n",
    "\n",
    "        # If this asset has a different GSD than the item, set it on the asset\n",
    "        if band_info[\"gsd\"] != item.common_metadata.gsd:\n",
    "            asset.common_metadata.gsd = band_info[\"gsd\"]\n",
    "\n",
    "    # Add other assets\n",
    "    for asset_id, asset_info in get_other_assets(scene).items():\n",
    "        item.add_asset(\n",
    "            asset_id,\n",
    "            pystac.Asset(href=asset_info[\"href\"], media_type=asset_info[\"media_type\"]),\n",
    "        )"
   ]
  },
  {
   "cell_type": "code",
   "execution_count": null,
   "id": "74e4c7d8",
   "metadata": {},
   "outputs": [],
   "source": [
    "add_assets(item, scene)"
   ]
  },
  {
   "cell_type": "markdown",
   "id": "f9369aeb",
   "metadata": {},
   "source": [
    "The logic for the Assets is such that if the gsd of the Asset is different from the Item’s GSD (30 meters), the Asset’s GSD will be specified directly on the Asset. We can see this by comparing the dict encoding of the Assets for band 10 and band 3:"
   ]
  },
  {
   "cell_type": "code",
   "execution_count": null,
   "id": "09f8ba4f",
   "metadata": {},
   "outputs": [],
   "source": [
    "item.assets[\"B10\"].to_dict()"
   ]
  },
  {
   "cell_type": "code",
   "execution_count": null,
   "id": "664e68b2",
   "metadata": {},
   "outputs": [],
   "source": [
    "item.assets[\"B3\"].to_dict()"
   ]
  },
  {
   "cell_type": "markdown",
   "id": "40e7c2c8",
   "metadata": {},
   "source": [
    "Here we see the thumbnail asset, which does not include the band information for the eo extension as it does not represent any of the Item’s bands:"
   ]
  },
  {
   "cell_type": "code",
   "execution_count": null,
   "id": "9e0a2551",
   "metadata": {},
   "outputs": [],
   "source": [
    "item.assets[\"thumbnail\"].to_dict()"
   ]
  },
  {
   "cell_type": "markdown",
   "id": "9bd0934c",
   "metadata": {},
   "source": [
    "# Add projection information\n",
    "We can specify the EPSG code for the scene as part of the projection extension. The below method figures out the correct UTM Zone EPSG code based on the center latitude of the scene:"
   ]
  },
  {
   "cell_type": "code",
   "execution_count": null,
   "id": "287f2132",
   "metadata": {},
   "outputs": [],
   "source": [
    "def get_epsg(metadata: Dict[str, Any], min_lat: float, max_lat: float) -> Optional[int]:\n",
    "    if \"UTM_ZONE\" in metadata:\n",
    "        center_lat = (min_lat + max_lat) / 2.0\n",
    "        return int((\"326\" if center_lat > 0 else \"327\") + metadata[\"UTM_ZONE\"])\n",
    "    else:\n",
    "        return None"
   ]
  },
  {
   "cell_type": "code",
   "execution_count": null,
   "id": "b89a1c00",
   "metadata": {},
   "outputs": [],
   "source": [
    "proj_ext = ProjectionExtension.ext(item, add_if_missing=True)\n",
    "assert item.bbox is not None\n",
    "proj_ext.epsg = get_epsg(metadata, item.bbox[1], item.bbox[3])\n",
    "proj_ext.epsg"
   ]
  },
  {
   "cell_type": "markdown",
   "id": "aded8891",
   "metadata": {},
   "source": [
    "# Add view geometry information\n",
    "The View Geometry extension specifies information related to angles of sensors and other radiance angles that affect the view of resulting data. The Landsat 8 metadata specifies two of these parameters, so we add them to our Item:"
   ]
  },
  {
   "cell_type": "code",
   "execution_count": null,
   "id": "a8c27e60",
   "metadata": {},
   "outputs": [],
   "source": [
    "def get_view_info(metadata: Dict[str, Any]) -> Dict[str, float]:\n",
    "    return {\n",
    "        \"sun_azimuth\": float(metadata[\"SUN_AZIMUTH\"]),\n",
    "        \"sun_elevation\": float(metadata[\"SUN_ELEVATION\"]),\n",
    "    }"
   ]
  },
  {
   "cell_type": "code",
   "execution_count": null,
   "id": "7f8fedc2",
   "metadata": {},
   "outputs": [],
   "source": [
    "view_ext = ViewExtension.ext(item, add_if_missing=True)\n",
    "view_info = get_view_info(metadata)\n",
    "view_ext.sun_azimuth = view_info[\"sun_azimuth\"]\n",
    "view_ext.sun_elevation = view_info[\"sun_elevation\"]\n",
    "item.properties"
   ]
  },
  {
   "cell_type": "markdown",
   "id": "1f47ae69",
   "metadata": {},
   "source": [
    "Now that we’ve added all the metadata to the item, let’s check the validator to make sure we’ve specified everything correctly. The validation logic will take into account the new extensions that have been enabled and validate against the proper schemas for those extensions."
   ]
  },
  {
   "cell_type": "code",
   "execution_count": null,
   "id": "7d7c0141",
   "metadata": {},
   "outputs": [],
   "source": [
    "item.validate()"
   ]
  },
  {
   "cell_type": "markdown",
   "id": "d644d046",
   "metadata": {},
   "source": [
    "# Building the Collection\n",
    "Now that we know how to build an item for a scene, let’s build the collection that will contain all the Items.\n",
    "\n",
    "If we look at the __init__ method for pystac.Collection, we can see what properties are required:"
   ]
  },
  {
   "cell_type": "code",
   "execution_count": null,
   "id": "48705ef6",
   "metadata": {},
   "outputs": [],
   "source": [
    "help(pystac.Collection.__init__)"
   ]
  },
  {
   "cell_type": "markdown",
   "id": "516aedf4",
   "metadata": {},
   "source": [
    "# Collection id\n",
    "We’ll use the location name we defined above in the ID for our Collection:"
   ]
  },
  {
   "cell_type": "code",
   "execution_count": null,
   "id": "8723240d",
   "metadata": {},
   "outputs": [],
   "source": [
    "collection_id = \"{}-landsat-8\".format(location_name)\n",
    "collection_id"
   ]
  },
  {
   "cell_type": "markdown",
   "id": "f48d9318",
   "metadata": {},
   "source": [
    "# Collection title\n",
    "Here we set a simple title for our collection."
   ]
  },
  {
   "cell_type": "code",
   "execution_count": null,
   "id": "e37ea0c2",
   "metadata": {},
   "outputs": [],
   "source": [
    "collection_title = \"2020 Landsat 8 images over {}\".format(location_name)\n",
    "collection_title"
   ]
  },
  {
   "cell_type": "markdown",
   "id": "fe004be4",
   "metadata": {},
   "source": [
    "# Collection description\n",
    "Here we give a brief description of the Collection. If this were a real Collection that were being published, I’d recommend putting a much more detailed description to ensure anyone using your STAC knows what they are working with!\n",
    "\n",
    "Notice we are using Markdown to write the description. The description field can be Markdown to help tools that render information about STAC to display the information in a more readable way."
   ]
  },
  {
   "cell_type": "code",
   "execution_count": null,
   "id": "b27b21da",
   "metadata": {},
   "outputs": [],
   "source": [
    "collection_description = \"\"\"### {} Landsat 8\n",
    "\n",
    "A collection of Landsat 8 scenes around {} in 2020.\n",
    "\"\"\".format(\n",
    "    location_name, location_name\n",
    ")\n",
    "print(collection_description)"
   ]
  },
  {
   "cell_type": "markdown",
   "id": "9ced8733",
   "metadata": {},
   "source": [
    "# Collection extent\n",
    "A Collection specifies the spatial and temporal extent of all the item it contains. Since Landsat 8 spans the globe, we’ll simply put a global extent here. We’ll also specify an open-ended time interval that starts with the first datetime for scenes hosted by AWS.\n",
    "\n",
    "Towards the end of the notebook, we’ll use a method to easily scope this down to cover the times and space the Items occupy once we’ve added all the items."
   ]
  },
  {
   "cell_type": "code",
   "execution_count": null,
   "id": "2fd85521",
   "metadata": {},
   "outputs": [],
   "source": [
    "from datetime import datetime\n",
    "\n",
    "spatial_extent = pystac.SpatialExtent([[-180.0, -90.0, 180.0, 90.0]])\n",
    "temporal_extent = pystac.TemporalExtent([[datetime(2013, 6, 1), None]])\n",
    "collection_extent = pystac.Extent(spatial_extent, temporal_extent)"
   ]
  },
  {
   "cell_type": "code",
   "execution_count": null,
   "id": "cad56bd6",
   "metadata": {},
   "outputs": [],
   "source": [
    "collection = pystac.Collection(\n",
    "    id=collection_id,\n",
    "    title=collection_title,\n",
    "    description=collection_description,\n",
    "    extent=collection_extent,\n",
    ")"
   ]
  },
  {
   "cell_type": "markdown",
   "id": "1f797a69",
   "metadata": {},
   "source": [
    "We can now look at our Collection as a dict to check our values."
   ]
  },
  {
   "cell_type": "code",
   "execution_count": null,
   "id": "4749d08d",
   "metadata": {},
   "outputs": [],
   "source": [
    "collection.to_dict()"
   ]
  },
  {
   "cell_type": "markdown",
   "id": "7c8e23bc",
   "metadata": {},
   "source": [
    "# Set the license\n",
    "Notice the license above is proprietary. This is the default in PySTAC if no license is specified; however Landsat 8 is certainly not proprietary (thankfully!), so let’s change the license to the correct SPDX string for public domain data:"
   ]
  },
  {
   "cell_type": "code",
   "execution_count": null,
   "id": "f1b30abf",
   "metadata": {},
   "outputs": [],
   "source": [
    "collection_license = \"PDDL-1.0\""
   ]
  },
  {
   "cell_type": "markdown",
   "id": "8986ca02",
   "metadata": {},
   "source": [
    "# Set the providers\n",
    "A collection will specify the providers of the data, including what role they have played. We can set our provider information by instantiating pystac.Provider objects:"
   ]
  },
  {
   "cell_type": "code",
   "execution_count": null,
   "id": "3c877c1c",
   "metadata": {},
   "outputs": [],
   "source": [
    "collection.providers = [\n",
    "    pystac.Provider(\n",
    "        name=\"USGS\",\n",
    "        roles=[pystac.ProviderRole.PRODUCER],\n",
    "        url=\"https://landsat.usgs.gov/\",\n",
    "    ),\n",
    "    pystac.Provider(\n",
    "        name=\"Planet Labs\",\n",
    "        roles=[pystac.ProviderRole.PROCESSOR],\n",
    "        url=\"https://github.com/landsat-pds/landsat_ingestor\",\n",
    "    ),\n",
    "    pystac.Provider(\n",
    "        name=\"AWS\", roles=[pystac.ProviderRole.HOST], url=\"https://landsatonaws.com/\"\n",
    "    ),\n",
    "]"
   ]
  },
  {
   "cell_type": "markdown",
   "id": "0f4e2fc9",
   "metadata": {},
   "source": [
    "# Create items for each scene\n",
    "We created an Item for a single scene above. This method consolidates that logic into a single method that can construct an Item from a scene, so we can create an Item for every scene in our subset:"
   ]
  },
  {
   "cell_type": "code",
   "execution_count": null,
   "id": "0e6dac4b",
   "metadata": {},
   "outputs": [],
   "source": [
    "def item_from_scene(scene: Scene) -> pystac.Item:\n",
    "    mtl_url = get_asset_url(scene, \"MTL.txt\")\n",
    "    metadata = get_metadata(mtl_url)\n",
    "\n",
    "    bbox = get_bbox(metadata)\n",
    "    item = pystac.Item(\n",
    "        id=get_item_id(metadata),\n",
    "        datetime=get_datetime(metadata),\n",
    "        geometry=get_geometry(scene, bbox),\n",
    "        bbox=bbox,\n",
    "        properties={},\n",
    "    )\n",
    "\n",
    "    item.common_metadata.gsd = 30.0\n",
    "\n",
    "    item_eo_ext = EOExtension.ext(item, add_if_missing=True)\n",
    "    item_eo_ext.cloud_cover = get_cloud_cover(metadata)\n",
    "\n",
    "    add_assets(item, scene)\n",
    "\n",
    "    item_proj_ext = ProjectionExtension.ext(item, add_if_missing=True)\n",
    "    assert item.bbox is not None\n",
    "    item_proj_ext.epsg = get_epsg(metadata, item.bbox[1], item.bbox[3])\n",
    "\n",
    "    item_view_ext = ViewExtension.ext(item, add_if_missing=True)\n",
    "    view_info = get_view_info(metadata)\n",
    "    item_view_ext.sun_azimuth = view_info[\"sun_azimuth\"]\n",
    "    item_view_ext.sun_elevation = view_info[\"sun_elevation\"]\n",
    "\n",
    "    item.validate()\n",
    "\n",
    "    return item"
   ]
  },
  {
   "cell_type": "markdown",
   "id": "194e1cfe",
   "metadata": {},
   "source": [
    "Here we create an item per scene and add it to our collection. Since this is reading multiple metadata files per scene from the internet, it may take a little bit to run:"
   ]
  },
  {
   "cell_type": "code",
   "execution_count": null,
   "id": "2aa953d6",
   "metadata": {},
   "outputs": [],
   "source": [
    "for scene in location_scenes:\n",
    "    item = item_from_scene(scene)\n",
    "    collection.add_item(item)"
   ]
  },
  {
   "cell_type": "markdown",
   "id": "819c355f",
   "metadata": {},
   "source": [
    "## Reset collection extent based on items\n",
    "Now that we’ve added all the item we can use the update_extent_from_items method on the Collection to set the extent based on the contained items:"
   ]
  },
  {
   "cell_type": "code",
   "execution_count": null,
   "id": "b93fc004",
   "metadata": {},
   "outputs": [],
   "source": [
    "collection.update_extent_from_items()\n",
    "collection.extent.to_dict()"
   ]
  },
  {
   "cell_type": "markdown",
   "id": "ce39e0c2",
   "metadata": {},
   "source": [
    "# Set the HREFs for everything in the catalog\n",
    "We’ve been building up our Collection and Items in memory. This has been convenient as it allows us not to think about file paths as we construct our Catalog. However, a STAC is not valid without any HREFs!\n",
    "\n",
    "We can use the normalize_hrefs method to set all the HREFs in the entire STAC based on a root directory. This will use the STAC Best Practices recommendations for STAC file layout for each Catalog, Collection and Item in the STAC.\n",
    "\n",
    "Here we use that method and set the root directory to a subdirectory of our user’s home directory:"
   ]
  },
  {
   "cell_type": "code",
   "execution_count": null,
   "id": "98d51c9d",
   "metadata": {},
   "outputs": [],
   "source": [
    "from pathlib import Path\n",
    "\n",
    "root_path = str(Path.home() / \"{}-landsat-stac\".format(location_name))\n",
    "\n",
    "collection.normalize_hrefs(root_path)"
   ]
  },
  {
   "cell_type": "markdown",
   "id": "49ad71e5",
   "metadata": {},
   "source": [
    "Now that we have all the Collection’s data set and HREFs in place we can validate the entire STAC using validate_all, which recursively crawls through a catalog and validates every STAC object in the catalog:"
   ]
  },
  {
   "cell_type": "code",
   "execution_count": null,
   "id": "18275bf2",
   "metadata": {},
   "outputs": [],
   "source": [
    "collection.validate_all()"
   ]
  },
  {
   "cell_type": "markdown",
   "id": "1c5cde5e",
   "metadata": {},
   "source": [
    "# Write the catalog locally\n",
    "Now that we have our complete, validated STAC in memory, let’s write it out. This is as simple as calling save on the Collection. We need to specify the type of catalog in order to property write out links - these types are described again in the STAC Best Practices documentation.\n",
    "\n",
    "We’ll use the “self contained” type, which uses relative paths and does not specify absolute “self” links to any object. This makes the catalog more portable, as it remains valid even if you copy the STAC to new locations."
   ]
  },
  {
   "cell_type": "code",
   "execution_count": null,
   "id": "85bbf593",
   "metadata": {},
   "outputs": [],
   "source": [
    "collection.save(pystac.CatalogType.SELF_CONTAINED)"
   ]
  },
  {
   "cell_type": "markdown",
   "id": "76f1e73d",
   "metadata": {},
   "source": [
    "Now that we’ve written our STAC out we probably want to view it. We can use the describe method to print out a simple representation of the catalog:"
   ]
  },
  {
   "cell_type": "code",
   "execution_count": null,
   "id": "40265f87",
   "metadata": {},
   "outputs": [],
   "source": [
    "collection.describe()"
   ]
  },
  {
   "cell_type": "markdown",
   "id": "f41ee9af",
   "metadata": {},
   "source": [
    "We can also use the to_dict method on individual STAC objects in order to see the data, as we’ve been doing in the tutorial:"
   ]
  },
  {
   "cell_type": "code",
   "execution_count": null,
   "id": "6ec05144",
   "metadata": {},
   "outputs": [],
   "source": [
    "collection.to_dict()"
   ]
  },
  {
   "cell_type": "markdown",
   "id": "9cd525ad",
   "metadata": {},
   "source": [
    "However, if we want to browse our STAC more interactively, we can use the stac-browser tool to read our local STAC.\n",
    "\n",
    "We can use this simple Python server (copied from this gist) to serve our our directory at port 5555:"
   ]
  },
  {
   "cell_type": "code",
   "execution_count": null,
   "id": "602c52b8",
   "metadata": {},
   "outputs": [],
   "source": [
    "import os\n",
    "from http.server import HTTPServer, SimpleHTTPRequestHandler\n",
    "\n",
    "os.chdir(root_path)\n",
    "\n",
    "\n",
    "class CORSRequestHandler(SimpleHTTPRequestHandler):\n",
    "    def end_headers(self) -> None:\n",
    "        self.send_header(\"Access-Control-Allow-Origin\", \"*\")\n",
    "        self.send_header(\"Access-Control-Allow-Methods\", \"GET\")\n",
    "        self.send_header(\"Cache-Control\", \"no-store, no-cache, must-revalidate\")\n",
    "        return super(CORSRequestHandler, self).end_headers()\n",
    "\n",
    "\n",
    "with HTTPServer((\"localhost\", 5555), CORSRequestHandler) as httpd:\n",
    "    httpd.serve_forever()"
   ]
  },
  {
   "cell_type": "markdown",
   "id": "e330b10b",
   "metadata": {},
   "source": [
    "Now you can follow the stac-browser instructions for starting a stac-browser instance and point it at http://localhost:5555/collection.json to serve out the STAC!\n",
    "\n",
    "To quit the server, use the Kernel -> Interrupt menu option."
   ]
  }
 ],
 "metadata": {
  "kernelspec": {
   "display_name": "Python 3 (ipykernel)",
   "language": "python",
   "name": "python3"
  },
  "language_info": {
   "codemirror_mode": {
    "name": "ipython",
    "version": 3
   },
   "file_extension": ".py",
   "mimetype": "text/x-python",
   "name": "python",
   "nbconvert_exporter": "python",
   "pygments_lexer": "ipython3",
   "version": "3.9.16"
  }
 },
 "nbformat": 4,
 "nbformat_minor": 5
}
